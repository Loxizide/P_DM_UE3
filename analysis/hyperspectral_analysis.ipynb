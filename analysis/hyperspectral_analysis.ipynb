
{
 "cells": [
  {
   "cell_type": "markdown",
   "metadata": {},
   "source": [
    "# 🌱 Hyperspectral Plant Classification\n",
    "Exploration et visualisation des spectres"
   ]
  },
  {
   "cell_type": "code",
   "execution_count": null,
   "metadata": {},
   "outputs": [],
   "source": [
    "# 📦 Imports\n",
    "import pandas as pd\n",
    "import matplotlib.pyplot as plt\n",
    "import seaborn as sns\n",
    "%matplotlib inline"
   ]
  },
  {
   "cell_type": "code",
   "execution_count": null,
   "metadata": {},
   "outputs": [],
   "source": [
    "# 📂 Chargement des données\n",
    "df = pd.read_csv('combined_data.csv')\n",
    "df.head()"
   ]
  },
  {
   "cell_type": "code",
   "execution_count": null,
   "metadata": {},
   "outputs": [],
   "source": [
    "# 🔬 Séparation spectres / classes\n",
    "X = df.drop(columns=['class'])\n",
    "y = df['class']\n",
    "wavelengths = X.columns.astype(float)"
   ]
  },
  {
   "cell_type": "code",
   "execution_count": null,
   "metadata": {},
   "outputs": [],
   "source": [
    "# 🎨 Visualisation : spectres moyens par classe\n",
    "plt.figure(figsize=(12, 6))\n",
    "for label in y.unique():\n",
    "    mean_spectrum = X[y == label].mean()\n",
    "    plt.plot(wavelengths, mean_spectrum, label=label)\n",
    "\n",
    "plt.title('Spectres moyens par classe')\n",
    "plt.xlabel('Longueur d\'onde (nm)')\n",
    "plt.ylabel('Réflectance')\n",
    "plt.legend()\n",
    "plt.grid(True)\n",
    "plt.tight_layout()\n",
    "plt.show()"
   ]
  }
 ],
 "metadata": {
  "kernelspec": {
   "display_name": "Python 3",
   "language": "python",
   "name": "python3"
  },
  "language_info": {
   "name": "python",
   "version": ""
  }
 },
 "nbformat": 4,
 "nbformat_minor": 2
}
